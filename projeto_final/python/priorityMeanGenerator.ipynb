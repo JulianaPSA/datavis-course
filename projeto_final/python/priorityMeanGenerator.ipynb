{
 "cells": [
  {
   "cell_type": "code",
   "execution_count": 3,
   "metadata": {},
   "outputs": [],
   "source": [
    "import pandas as pd;"
   ]
  },
  {
   "cell_type": "code",
   "execution_count": 5,
   "metadata": {},
   "outputs": [
    {
     "name": "stdout",
     "output_type": "stream",
     "text": [
      "  Project Owner                  Manager  Category   Key Priority    Status  \\\n",
      "0    YARN   ASF  Apache Hadoop Committee  big-data  7697  Blocker  Resolved   \n",
      "1    YARN   ASF  Apache Hadoop Committee  big-data  7698    Minor  Resolved   \n",
      "2    YARN   ASF  Apache Hadoop Committee  big-data  7699    Major  Resolved   \n",
      "3    YARN   ASF  Apache Hadoop Committee  big-data  7705    Major  Resolved   \n",
      "4    YARN   ASF  Apache Hadoop Committee  big-data  7715    Major  Resolved   \n",
      "\n",
      "       Reporter                     Assignee       Components  \\\n",
      "0    santhoshbg                        xgong              NaN   \n",
      "1  lingjinjiang                 lingjinjiang  resourcemanager   \n",
      "2        sunilg                       sunilg           webapp   \n",
      "3       yufeigu                      yufeigu      nodemanager   \n",
      "4       asuresh  miklos.szegedi@cloudera.com              NaN   \n",
      "\n",
      "         ...                      LastCommentDate NoWatchers NoAttachments  \\\n",
      "0        ...         2018-02-12T03:12:31.791+0000          0             3   \n",
      "1        ...         2018-01-29T15:49:03.572+0000          0             3   \n",
      "2        ...         2018-01-08T10:33:46.207+0000          0             2   \n",
      "3        ...         2018-01-13T08:11:53.979+0000          0             5   \n",
      "4        ...         2018-12-10T08:54:11.006+0000          0             5   \n",
      "\n",
      "            FirstAttachmentDate            LastAttachmentDate  \\\n",
      "0  2018-01-03T19:34:58.891+0000  2018-02-04T06:38:54.497+0000   \n",
      "1  2018-01-04T12:04:05.795+0000  2018-01-26T06:06:09.496+0000   \n",
      "2  2018-01-04T13:09:55.100+0000  2018-01-08T06:06:16.388+0000   \n",
      "3  2018-01-09T19:30:13.561+0000  2018-01-12T01:14:30.444+0000   \n",
      "4  2018-05-03T00:55:34.994+0000  2018-05-08T20:49:05.891+0000   \n",
      "\n",
      "   NoAttachedPatches        FirstAttachedPatchDate  \\\n",
      "0                  3  2018-01-03T19:34:58.891+0000   \n",
      "1                  3  2018-01-04T12:04:05.795+0000   \n",
      "2                  2  2018-01-04T13:09:55.100+0000   \n",
      "3                  5  2018-01-09T19:30:13.561+0000   \n",
      "4                  5  2018-05-03T00:55:34.994+0000   \n",
      "\n",
      "          LastAttachedPatchDate              InwardIssueLinks  \\\n",
      "0  2018-02-04T06:38:54.497+0000                           NaN   \n",
      "1  2018-01-26T06:06:09.496+0000                           NaN   \n",
      "2  2018-01-08T06:06:16.388+0000                           NaN   \n",
      "3  2018-01-12T01:14:30.444+0000  Blocker:7590\\nReference:7363   \n",
      "4  2018-05-08T20:49:05.891+0000                Duplicate:7015   \n",
      "\n",
      "  OutwardIssueLinks  \n",
      "0               NaN  \n",
      "1               NaN  \n",
      "2    Duplicate:7471  \n",
      "3               NaN  \n",
      "4    Duplicate:4166  \n",
      "\n",
      "[5 rows x 32 columns]\n"
     ]
    }
   ],
   "source": [
    "data = pd.read_csv(\"yarn2018.csv\");\n",
    "print(data.head());"
   ]
  },
  {
   "cell_type": "code",
   "execution_count": 19,
   "metadata": {},
   "outputs": [
    {
     "name": "stdout",
     "output_type": "stream",
     "text": [
      "Priority\n",
      "Blocker     30.030303\n",
      "Critical    35.810811\n",
      "Major       26.267857\n",
      "Minor       13.766667\n",
      "Trivial     15.222222\n",
      "Name: nResolutionDays, dtype: float64\n"
     ]
    }
   ],
   "source": [
    "medias = data.groupby('Priority')['nResolutionDays'].mean();\n",
    "print(medias);"
   ]
  },
  {
   "cell_type": "code",
   "execution_count": 20,
   "metadata": {},
   "outputs": [],
   "source": [
    "medias.to_csv('mediasPrioridades.csv', header=True);\n"
   ]
  }
 ],
 "metadata": {
  "kernelspec": {
   "display_name": "Python 2",
   "language": "python",
   "name": "python2"
  },
  "language_info": {
   "codemirror_mode": {
    "name": "ipython",
    "version": 2
   },
   "file_extension": ".py",
   "mimetype": "text/x-python",
   "name": "python",
   "nbconvert_exporter": "python",
   "pygments_lexer": "ipython2",
   "version": "2.7.12"
  }
 },
 "nbformat": 4,
 "nbformat_minor": 2
}
